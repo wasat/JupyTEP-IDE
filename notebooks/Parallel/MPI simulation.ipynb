{
 "cells": [
  {
   "cell_type": "code",
   "execution_count": 1,
   "metadata": {},
   "outputs": [],
   "source": [
    "%matplotlib inline\n",
    "import numpy as np\n",
    "import matplotlib.pyplot as plt\n",
    "\n",
    "from IPython.display import display\n",
    "import ipyparallel as ipp\n",
    "from ipyparallel.error import TimeoutError\n",
    "\n",
    "rc = ipp.Client(profile=\"default\")\n",
    "view = rc[:]\n",
    "view.block = True"
   ]
  },
  {
   "cell_type": "code",
   "execution_count": 2,
   "metadata": {},
   "outputs": [
    {
     "data": {
      "text/plain": [
       "[0, 1, 2, 3]"
      ]
     },
     "execution_count": 2,
     "metadata": {},
     "output_type": "execute_result"
    }
   ],
   "source": [
    "rc.ids"
   ]
  },
  {
   "cell_type": "code",
   "execution_count": 3,
   "metadata": {},
   "outputs": [
    {
     "name": "stdout",
     "output_type": "stream",
     "text": [
      "[stdout:0] MPI rank: 0/1\n",
      "[stdout:1] MPI rank: 0/1\n",
      "[stdout:2] MPI rank: 0/1\n",
      "[stdout:3] MPI rank: 0/1\n"
     ]
    }
   ],
   "source": [
    "%%px\n",
    "# MPI initialization, library imports and sanity checks on all engines\n",
    "from mpi4py import MPI\n",
    "import numpy as np\n",
    "import time\n",
    "\n",
    "mpi = MPI.COMM_WORLD\n",
    "bcast = mpi.bcast\n",
    "barrier = mpi.barrier\n",
    "rank = mpi.rank\n",
    "print(\"MPI rank: %i/%i\" % (mpi.rank,mpi.size))"
   ]
  },
  {
   "cell_type": "code",
   "execution_count": 4,
   "metadata": {},
   "outputs": [],
   "source": [
    "ranks = view['rank']\n",
    "rank_indices = np.argsort(ranks)\n",
    "\n",
    "def mpi_order(seq):\n",
    "    \"\"\"Return elements of a sequence ordered by MPI rank.\n",
    "\n",
    "    The input sequence is assumed to be ordered by engine ID.\"\"\"\n",
    "    return [seq[x] for x in rank_indices]"
   ]
  },
  {
   "cell_type": "code",
   "execution_count": 5,
   "metadata": {},
   "outputs": [],
   "source": [
    "%%px\n",
    "\n",
    "stop = False\n",
    "nsteps = 100\n",
    "delay = 0.1\n",
    "\n",
    "xmin, xmax = 0, np.pi\n",
    "ymin, ymax = 0, 2*np.pi\n",
    "dy = (ymax-ymin)/mpi.size\n",
    "\n",
    "def simulation():\n",
    "    \"\"\"Toy simulation code, computes sin(f*(x**2+y**2)) for a slowly increasing f\n",
    "    over an increasingly fine mesh.\n",
    "\n",
    "    The purpose of this code is simply to illustrate the basic features of a typical\n",
    "    MPI code: spatial domain decomposition, a solution which is evolving in some \n",
    "    sense, and local per-node computation.  In this case the nodes don't really\n",
    "    communicate at all.\n",
    "    \"\"\"\n",
    "    # By making these few variables global, we allow the IPython client to access them\n",
    "    # remotely for interactive introspection\n",
    "    global j, Z, nx, nyt\n",
    "    freqs = np.linspace(0.6, 1, nsteps)\n",
    "    for j in range(nsteps):\n",
    "        nx, ny = 2+j/4, 2+j/2/mpi.size\n",
    "        nyt = mpi.size*ny\n",
    "        Xax = np.linspace(xmin, xmax, nx)\n",
    "        Yax = np.linspace(ymin+rank*dy, ymin+(rank+1)*dy, ny, endpoint=rank==mpi.size)\n",
    "        X, Y = np.meshgrid(Xax, Yax)\n",
    "        f = freqs[j]\n",
    "        Z = np.cos(f*(X**2 + Y**2))\n",
    "        # We add a small delay to simulate that a real-world computation\n",
    "        # would take much longer, and we ensure all nodes are synchronized\n",
    "        time.sleep(delay)\n",
    "        # The stop flag can be set remotely via IPython, allowing the simulation to be\n",
    "        # cleanly stopped from the outside\n",
    "        if stop:\n",
    "            break"
   ]
  },
  {
   "cell_type": "code",
   "execution_count": 6,
   "metadata": {},
   "outputs": [],
   "source": [
    "from IPython.display import clear_output\n",
    "\n",
    "def plot_current_results(in_place=True):\n",
    "    \"\"\"Makes a blocking call to retrieve remote data and displays the solution mesh\n",
    "    as a contour plot.\n",
    "    \n",
    "    Parameters\n",
    "    ----------\n",
    "    in_place : bool\n",
    "        By default it calls clear_output so that new plots replace old ones.  Set\n",
    "        to False to allow keeping of all previous outputs.\n",
    "    \"\"\"\n",
    "    \n",
    "    # We make a blocking call to load the remote data from the simulation into simple named \n",
    "    # variables we can read from the engine namespaces\n",
    "    #view.apply_sync(load_simulation_globals)\n",
    "    # And now we can use the view to read these variables from all the engines.  Then we\n",
    "    # concatenate all of them into single arrays for local plotting\n",
    "    try:\n",
    "        Z = np.concatenate(mpi_order(view['Z']))\n",
    "    except ValueError:\n",
    "        print(\"dimension mismatch in Z, not plotting\")\n",
    "        ax = plt.gca()\n",
    "        return ax.figure\n",
    "        \n",
    "    nx, nyt, j, nsteps = view.pull(['nx', 'nyt', 'j', 'nsteps'], targets=0)\n",
    "    fig, ax = plt.subplots()\n",
    "    ax.contourf(Z)\n",
    "    ax.set_title('Mesh: %i x %i, step %i/%i' % (nx, nyt, j+1, nsteps))\n",
    "    plt.axis('off')\n",
    "    # We clear the notebook output before plotting this if in-place plot updating is requested\n",
    "    if in_place:\n",
    "        clear_output(wait=True)\n",
    "    display(fig)\n",
    "    return fig"
   ]
  },
  {
   "cell_type": "code",
   "execution_count": 7,
   "metadata": {},
   "outputs": [],
   "source": [
    "def simulation_alive():\n",
    "    \"\"\"Return True if the simulation thread is still running on any engine.\n",
    "    \"\"\"\n",
    "    return any(view.apply_sync(lambda : simulation_thread.is_alive()))"
   ]
  },
  {
   "cell_type": "code",
   "execution_count": 8,
   "metadata": {},
   "outputs": [],
   "source": [
    "def monitor_simulation(refresh=5.0, plots_in_place=True):\n",
    "    \"\"\"Monitor the simulation progress and call plotting routine.\n",
    "\n",
    "    Supress KeyboardInterrupt exception if interrupted, ensure that the last \n",
    "    figure is always displayed and provide basic timing and simulation status.\n",
    "\n",
    "    Parameters\n",
    "    ----------\n",
    "    refresh : float\n",
    "      Refresh interval between calls to retrieve and plot data.  The default\n",
    "      is 5s, adjust depending on the desired refresh rate, but be aware that \n",
    "      very short intervals will start having a significant impact.\n",
    "\n",
    "    plots_in_place : bool\n",
    "       If true, every new figure replaces the last one, producing a (slow)\n",
    "       animation effect in the notebook.  If false, all frames are plotted\n",
    "       in sequence and appended in the output area.\n",
    "    \"\"\"\n",
    "    import datetime as dt, time\n",
    "    \n",
    "    if not simulation_alive():\n",
    "        plot_current_results(in_place=plots_in_place)\n",
    "        plt.close('all')\n",
    "        print('Simulation has already finished, no monitoring to do.')\n",
    "        return\n",
    "    \n",
    "    t0 = dt.datetime.now()\n",
    "    fig = None\n",
    "    try:\n",
    "        while simulation_alive():\n",
    "            fig = plot_current_results(in_place=plots_in_place)\n",
    "            plt.close('all') # prevent re-plot of old figures\n",
    "            time.sleep(refresh) # so we don't hammer the server too fast\n",
    "    except (KeyboardInterrupt, TimeoutError):\n",
    "        msg = 'Monitoring interrupted, simulation is ongoing!'\n",
    "    else:\n",
    "        msg = 'Simulation completed!'\n",
    "    tmon = dt.datetime.now() - t0\n",
    "    if plots_in_place and fig is not None:\n",
    "        clear_output(wait=True)\n",
    "        plt.close('all')\n",
    "        display(fig)\n",
    "    print(msg)\n",
    "    print('Monitored for: %s.' % tmon)"
   ]
  },
  {
   "cell_type": "code",
   "execution_count": 9,
   "metadata": {},
   "outputs": [
    {
     "name": "stderr",
     "output_type": "stream",
     "text": [
      "[stderr:1] \n",
      "/opt/conda/lib/python3.6/site-packages/ipyparallel/engine/__main__.py:26: DeprecationWarning: object of type <class 'float'> cannot be safely interpreted as an integer.\n",
      "/opt/conda/lib/python3.6/site-packages/ipyparallel/engine/__main__.py:27: DeprecationWarning: object of type <class 'float'> cannot be safely interpreted as an integer.\n",
      "[stderr:3] \n",
      "/opt/conda/lib/python3.6/site-packages/ipyparallel/engine/__main__.py:26: DeprecationWarning: object of type <class 'float'> cannot be safely interpreted as an integer.\n",
      "/opt/conda/lib/python3.6/site-packages/ipyparallel/engine/__main__.py:27: DeprecationWarning: object of type <class 'float'> cannot be safely interpreted as an integer.\n"
     ]
    }
   ],
   "source": [
    "%%px\n",
    "from threading import Thread\n",
    "stop = False\n",
    "nsteps = 100\n",
    "delay=0.5\n",
    "# Create a thread wrapper for the simulation. The target must be an argument-less\n",
    "# function so we wrap the call to 'simulation' in a simple lambda:\n",
    "simulation_thread = Thread(target = lambda : simulation())\n",
    "# Now we actually start the simulation\n",
    "simulation_thread.start()"
   ]
  },
  {
   "cell_type": "code",
   "execution_count": null,
   "metadata": {},
   "outputs": [],
   "source": [
    "monitor_simulation(refresh=1);"
   ]
  },
  {
   "cell_type": "code",
   "execution_count": null,
   "metadata": {},
   "outputs": [],
   "source": [
    "#view['stop'] = True"
   ]
  },
  {
   "cell_type": "code",
   "execution_count": null,
   "metadata": {},
   "outputs": [],
   "source": [
    "%%px --target 0\n",
    "from ipyparallel import bind_kernel; bind_kernel()\n",
    "%connect_info"
   ]
  },
  {
   "cell_type": "code",
   "execution_count": null,
   "metadata": {},
   "outputs": [],
   "source": [
    "\n",
    "\n",
    "%%px --target 0\n",
    "%qtconsole\n",
    "\n"
   ]
  },
  {
   "cell_type": "code",
   "execution_count": null,
   "metadata": {},
   "outputs": [],
   "source": []
  }
 ],
 "metadata": {
  "kernelspec": {
   "display_name": "Python [default]",
   "language": "python",
   "name": "python3"
  },
  "language_info": {
   "codemirror_mode": {
    "name": "ipython",
    "version": 3
   },
   "file_extension": ".py",
   "mimetype": "text/x-python",
   "name": "python",
   "nbconvert_exporter": "python",
   "pygments_lexer": "ipython3",
   "version": "3.6.5"
  },
  "latex_envs": {
   "LaTeX_envs_menu_present": true,
   "autoclose": false,
   "autocomplete": true,
   "bibliofile": "biblio.bib",
   "cite_by": "apalike",
   "current_citInitial": 1,
   "eqLabelWithNumbers": true,
   "eqNumInitial": 1,
   "hotkeys": {
    "equation": "Ctrl-E",
    "itemize": "Ctrl-I"
   },
   "labels_anchors": false,
   "latex_user_defs": false,
   "report_style_numbering": false,
   "user_envs_cfg": false
  }
 },
 "nbformat": 4,
 "nbformat_minor": 2
}
